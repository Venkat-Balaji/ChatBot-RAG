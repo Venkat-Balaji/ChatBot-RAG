{
 "cells": [
  {
   "cell_type": "code",
   "execution_count": 5,
   "metadata": {},
   "outputs": [
    {
     "name": "stderr",
     "output_type": "stream",
     "text": [
      "2024-09-30 11:58:25.175 Thread 'MainThread': missing ScriptRunContext! This warning can be ignored when running in bare mode.\n",
      "2024-09-30 11:58:25.175 Thread 'MainThread': missing ScriptRunContext! This warning can be ignored when running in bare mode.\n",
      "2024-09-30 11:58:25.181 Thread 'MainThread': missing ScriptRunContext! This warning can be ignored when running in bare mode.\n",
      "2024-09-30 11:58:25.183 Thread 'MainThread': missing ScriptRunContext! This warning can be ignored when running in bare mode.\n",
      "2024-09-30 11:58:25.184 Thread 'MainThread': missing ScriptRunContext! This warning can be ignored when running in bare mode.\n",
      "2024-09-30 11:58:25.185 Thread 'MainThread': missing ScriptRunContext! This warning can be ignored when running in bare mode.\n",
      "2024-09-30 11:58:25.186 Thread 'MainThread': missing ScriptRunContext! This warning can be ignored when running in bare mode.\n"
     ]
    }
   ],
   "source": [
    "import streamlit as st\n",
    "import os\n",
    "from retriever import retrieve_context\n",
    "from generator import generate_response\n",
    "\n",
    "st.title(\"RAG-based Chatbot with Twitter and NewsAPI\")\n",
    "\n",
    "# User input\n",
    "user_input = st.text_input(\"Ask your question:\")\n",
    "\n",
    "# Option to select data source\n",
    "# data_source = st.selectbox(\"Select Data Source\", (\"Twitter\", \"NewsAPI\"))\n",
    "\n",
    "if user_input:\n",
    "    # Retrieve context based on the selected data source\n",
    "    context = retrieve_context(user_input, \"Twitter\")\n",
    "    \n",
    "    # Debugging context\n",
    "    st.write(\"Retrieved Context:\", context)\n",
    "    \n",
    "    # Generate response using the retrieved context\n",
    "    try:\n",
    "        response = generate_response(user_input, context)\n",
    "    except ConnectionError as e:\n",
    "        response = f\"Error loading the model: {e}\"\n",
    "    \n",
    "    # Display the chatbot response\n",
    "    st.write(f\"Chatbot: {response}\")\n",
    "\n"
   ]
  }
 ],
 "metadata": {
  "kernelspec": {
   "display_name": "venv",
   "language": "python",
   "name": "python3"
  },
  "language_info": {
   "codemirror_mode": {
    "name": "ipython",
    "version": 3
   },
   "file_extension": ".py",
   "mimetype": "text/x-python",
   "name": "python",
   "nbconvert_exporter": "python",
   "pygments_lexer": "ipython3",
   "version": "3.11.9"
  }
 },
 "nbformat": 4,
 "nbformat_minor": 2
}
